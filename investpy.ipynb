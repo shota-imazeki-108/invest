{
 "cells": [
  {
   "cell_type": "markdown",
   "metadata": {},
   "source": [
    "# Usage\n",
    "1. [Investing](https://www.investing.com/)にアクセスして対象企業を検索\n",
    "2. コード値を取得し、下記stock変数に代入する\n",
    "3. ノートブックを実行する\n",
    "\n",
    "＊ investpyの[公式ドキュメント](https://investpy.readthedocs.io/index.html)"
   ]
  },
  {
   "cell_type": "code",
   "execution_count": 1,
   "metadata": {},
   "outputs": [
    {
     "data": {
      "text/html": [
       "<div>\n",
       "<style scoped>\n",
       "    .dataframe tbody tr th:only-of-type {\n",
       "        vertical-align: middle;\n",
       "    }\n",
       "\n",
       "    .dataframe tbody tr th {\n",
       "        vertical-align: top;\n",
       "    }\n",
       "\n",
       "    .dataframe thead th {\n",
       "        text-align: right;\n",
       "    }\n",
       "</style>\n",
       "<table border=\"1\" class=\"dataframe\">\n",
       "  <thead>\n",
       "    <tr style=\"text-align: right;\">\n",
       "      <th></th>\n",
       "      <th>Date</th>\n",
       "      <th>Open</th>\n",
       "      <th>High</th>\n",
       "      <th>Low</th>\n",
       "      <th>Close</th>\n",
       "      <th>Volume</th>\n",
       "      <th>Currency</th>\n",
       "    </tr>\n",
       "  </thead>\n",
       "  <tbody>\n",
       "    <tr>\n",
       "      <th>0</th>\n",
       "      <td>2020-09-09</td>\n",
       "      <td>3572.0</td>\n",
       "      <td>3626.0</td>\n",
       "      <td>3564.0</td>\n",
       "      <td>3615.0</td>\n",
       "      <td>3209200</td>\n",
       "      <td>JPY</td>\n",
       "    </tr>\n",
       "    <tr>\n",
       "      <th>1</th>\n",
       "      <td>2020-09-10</td>\n",
       "      <td>3640.0</td>\n",
       "      <td>3713.0</td>\n",
       "      <td>3636.0</td>\n",
       "      <td>3713.0</td>\n",
       "      <td>3406000</td>\n",
       "      <td>JPY</td>\n",
       "    </tr>\n",
       "    <tr>\n",
       "      <th>2</th>\n",
       "      <td>2020-09-11</td>\n",
       "      <td>3724.0</td>\n",
       "      <td>3726.0</td>\n",
       "      <td>3667.0</td>\n",
       "      <td>3702.0</td>\n",
       "      <td>3169100</td>\n",
       "      <td>JPY</td>\n",
       "    </tr>\n",
       "    <tr>\n",
       "      <th>3</th>\n",
       "      <td>2020-09-14</td>\n",
       "      <td>3751.0</td>\n",
       "      <td>3778.0</td>\n",
       "      <td>3743.0</td>\n",
       "      <td>3763.0</td>\n",
       "      <td>2443200</td>\n",
       "      <td>JPY</td>\n",
       "    </tr>\n",
       "    <tr>\n",
       "      <th>4</th>\n",
       "      <td>2020-09-15</td>\n",
       "      <td>3721.0</td>\n",
       "      <td>3789.0</td>\n",
       "      <td>3712.0</td>\n",
       "      <td>3768.0</td>\n",
       "      <td>2899900</td>\n",
       "      <td>JPY</td>\n",
       "    </tr>\n",
       "  </tbody>\n",
       "</table>\n",
       "</div>"
      ],
      "text/plain": [
       "        Date    Open    High     Low   Close   Volume Currency\n",
       "0 2020-09-09  3572.0  3626.0  3564.0  3615.0  3209200      JPY\n",
       "1 2020-09-10  3640.0  3713.0  3636.0  3713.0  3406000      JPY\n",
       "2 2020-09-11  3724.0  3726.0  3667.0  3702.0  3169100      JPY\n",
       "3 2020-09-14  3751.0  3778.0  3743.0  3763.0  2443200      JPY\n",
       "4 2020-09-15  3721.0  3789.0  3712.0  3768.0  2899900      JPY"
      ]
     },
     "execution_count": 1,
     "metadata": {},
     "output_type": "execute_result"
    }
   ],
   "source": [
    "import pandas as pd\n",
    "import investpy\n",
    "import matplotlib.pyplot as plt\n",
    "\n",
    "stock = '6501' # Hitachi Ltd\n",
    "country = 'japan'\n",
    "\n",
    "stock_df = investpy.get_stock_recent_data(stock=stock, country=country)\n",
    "stock_df.reset_index(drop=False, inplace=True)\n",
    "stock_df.head()"
   ]
  },
  {
   "cell_type": "code",
   "execution_count": 8,
   "metadata": {},
   "outputs": [
    {
     "data": {
      "image/png": "[encoded data removed]",
      "text/plain": [
       "<Figure size 864x288 with 1 Axes>"
      ]
     },
     "metadata": {},
     "output_type": "display_data"
    }
   ],
   "source": [
    "from matplotlib import pyplot as plt\n",
    "import matplotlib.dates as mdates\n",
    "import seaborn as sns; sns.set()\n",
    "\n",
    "\n",
    "fig,ax = plt.subplots(figsize=(12,4))\n",
    "locator = mdates.DayLocator()\n",
    "formatter = mdates.ConciseDateFormatter(locator)\n",
    "ax.xaxis.set_minor_locator(locator)\n",
    "ax.xaxis.set_major_formatter(formatter)\n",
    "\n",
    "sns.lineplot(data=stock_df, x='Date', y='Close')\n",
    "ax.set_title('Hitachi Ltdt')\n",
    "plt.show()"
   ]
  },
  {
   "cell_type": "code",
   "execution_count": null,
   "metadata": {},
   "outputs": [],
   "source": []
  },
  {
   "cell_type": "code",
   "execution_count": null,
   "metadata": {},
   "outputs": [],
   "source": []
  }
 ],
 "metadata": {
  "kernelspec": {
   "display_name": "Python 3",
   "language": "python",
   "name": "python3"
  },
  "language_info": {
   "codemirror_mode": {
    "name": "ipython",
    "version": 3
   },
   "file_extension": ".py",
   "mimetype": "text/x-python",
   "name": "python",
   "nbconvert_exporter": "python",
   "pygments_lexer": "ipython3",
   "version": "3.8.3"
  }
 },
 "nbformat": 4,
 "nbformat_minor": 4
}
